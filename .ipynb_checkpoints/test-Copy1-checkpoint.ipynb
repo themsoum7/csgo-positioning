{
 "cells": [
  {
   "cell_type": "code",
   "execution_count": 1,
   "metadata": {},
   "outputs": [],
   "source": [
    "import sys\n",
    "import os\n",
    "import matplotlib.pyplot as plt\n",
    "import pandas as pd\n",
    "from demoparser.demofile import DemoFile\n",
    "from matplotlib.patches import ConnectionPatch\n",
    "import inspect"
   ]
  },
  {
   "cell_type": "markdown",
   "metadata": {},
   "source": [
    "# Round start"
   ]
  },
  {
   "cell_type": "code",
   "execution_count": 2,
   "metadata": {},
   "outputs": [],
   "source": [
    "def r_start(event, msg):\n",
    "    for idx, key in enumerate(event['event'].keys):\n",
    "        if key.name == 'objective':\n",
    "            objective = msg.keys[idx].val_string\n",
    "     \n",
    "    result.append([objective])"
   ]
  },
  {
   "cell_type": "markdown",
   "metadata": {},
   "source": [
    "# Round end"
   ]
  },
  {
   "cell_type": "code",
   "execution_count": 3,
   "metadata": {},
   "outputs": [],
   "source": [
    "def r_end(event, msg):\n",
    "    for idx, key in enumerate(event['event'].keys):\n",
    "        if key.name == 'winner':\n",
    "            winner = msg.keys[idx].val_byte\n",
    "        elif key.name == 'reason':\n",
    "            reason = msg.keys[idx].val_byte\n",
    "        elif key.name == 'legacy':\n",
    "            legacy = msg.keys[idx].val_byte\n",
    "        elif key.name == 'message':\n",
    "            message = msg.keys[idx].val_string\n",
    "        elif key.name == 'player_count':\n",
    "            player_count = msg.keys[idx].val_short\n",
    "     \n",
    "    result.append([message])"
   ]
  },
  {
   "cell_type": "markdown",
   "metadata": {},
   "source": [
    "# Match start"
   ]
  },
  {
   "cell_type": "code",
   "execution_count": 4,
   "metadata": {},
   "outputs": [],
   "source": [
    "def m_start(event, msg):\n",
    "    result.append(\"Match start\")"
   ]
  },
  {
   "cell_type": "markdown",
   "metadata": {},
   "source": [
    "# Data processing"
   ]
  },
  {
   "cell_type": "code",
   "execution_count": 5,
   "metadata": {},
   "outputs": [],
   "source": [
    "def remove_warmup(res_list):\n",
    "    match_start_idx = len(res_list) - 1 - res_list[::-1].index(\"Match start\")\n",
    "    new_res_list = res_list[match_start_idx:]\n",
    "    return new_res_list                "
   ]
  },
  {
   "cell_type": "code",
   "execution_count": 6,
   "metadata": {},
   "outputs": [],
   "source": [
    "def define_round_num(new_res_list):\n",
    "    counter = 1\n",
    "    for i in range(len(new_res_list)):\n",
    "        if new_res_list[i] in round_end_msgs:\n",
    "            new_res_list[i] = [{\"Round msg\": new_res_list[i][0], \"round num\": counter}]\n",
    "            counter += 1\n",
    "    return new_res_list"
   ]
  },
  {
   "cell_type": "code",
   "execution_count": 7,
   "metadata": {},
   "outputs": [],
   "source": [
    "def remove_trash(new_res_list):\n",
    "    for el in new_res_list:\n",
    "        if el == \"Match start\" or el == ['BOMB TARGET']:\n",
    "            new_res_list.pop(new_res_list.index(el))\n",
    "    return new_res_list"
   ]
  },
  {
   "cell_type": "code",
   "execution_count": 8,
   "metadata": {},
   "outputs": [],
   "source": [
    "def create_lists(new_res_list, att_list, vic_list, r_list):\n",
    "    round_counter = 1\n",
    "    \n",
    "    for el in new_res_list:\n",
    "        if len(el) == 1:\n",
    "            round_counter += 1\n",
    "        else:\n",
    "            att_list.append(el[0])\n",
    "            vic_list.append(el[1])\n",
    "            r_list.append(round_counter)\n",
    "    return att_list, vic_list, r_list"
   ]
  },
  {
   "cell_type": "code",
   "execution_count": 9,
   "metadata": {},
   "outputs": [],
   "source": [
    "def split_x_y_z(att_or_vic_list, att_or_vic_x, att_or_vic_y, att_or_vic_z):\n",
    "    for el in att_or_vic_list:\n",
    "        att_or_vic_x.append(el['x'])\n",
    "        att_or_vic_y.append(el['y'])\n",
    "        att_or_vic_z.append(el['z'])\n",
    "    \n",
    "    return att_or_vic_x, att_or_vic_y, att_or_vic_z"
   ]
  },
  {
   "cell_type": "code",
   "execution_count": 10,
   "metadata": {},
   "outputs": [],
   "source": [
    "def create_df_from_res(att_x, att_y, att_z, vic_x, vic_y, vic_z, rnds):\n",
    "    data_frame = pd.DataFrame({'attacker_x': att_x,\n",
    "                       'attacker_y': att_y,\n",
    "                       'attacker_z': att_z,\n",
    "                       'victim_x': vic_x,\n",
    "                       'victim_y': vic_y,\n",
    "                       'victim_z': vic_z,\n",
    "                       'round': rnds\n",
    "                      })\n",
    "    return data_frame"
   ]
  },
  {
   "cell_type": "code",
   "execution_count": 11,
   "metadata": {},
   "outputs": [],
   "source": [
    "# points for old dust 2: StartX = -2486; StartY = -1150; EndX = 2127; EndY = 3455; ResX = 1024; ResY = 1024;\n",
    "\n",
    "def pointx_to_resolutionx(xinput, startX = -2486, endX = 2127, resX = 1024):\n",
    "    sizeX = endX - startX\n",
    "    if startX < 0:\n",
    "        xinput += startX * (-1.0)\n",
    "    else:\n",
    "        xinput += startX\n",
    "    xoutput = float((xinput / abs(sizeX)) * resX);\n",
    "    return xoutput\n",
    "\n",
    "def pointy_to_resolutiony(yinput, startY = -1150, endY = 3455, resY = 1024):\n",
    "    sizeY = endY - startY\n",
    "    if startY < 0:\n",
    "        yinput += startY * (-1.0)\n",
    "    else:\n",
    "        yinput += startY\n",
    "    youtput = float((yinput / abs(sizeY)) * resY);\n",
    "    return resY - youtput - 10"
   ]
  },
  {
   "cell_type": "code",
   "execution_count": 12,
   "metadata": {},
   "outputs": [],
   "source": [
    "def convert_data(dataframe):\n",
    "    new_df = pd.DataFrame()\n",
    "    # Convert the data to radar positions\n",
    "    new_df['att_map_x'] = dataframe['attacker_x'].apply(pointx_to_resolutionx)\n",
    "    new_df['att_map_y'] = dataframe['attacker_y'].apply(pointy_to_resolutiony)\n",
    "    new_df['vic_map_x'] = dataframe['victim_x'].apply(pointx_to_resolutionx)\n",
    "    new_df['vic_map_y'] = dataframe['victim_y'].apply(pointy_to_resolutiony)\n",
    "    new_df['round'] = rounds\n",
    "    \n",
    "    return new_df"
   ]
  },
  {
   "cell_type": "code",
   "execution_count": 13,
   "metadata": {},
   "outputs": [],
   "source": [
    "def plot_image(data_frame, list_of_demos):\n",
    "    fig, ax = plt.subplots(figsize = (20, 20))\n",
    "\n",
    "    ax.scatter(data_frame.att_map_x, data_frame.att_map_y, alpha = 1, c = 'b')\n",
    "    ax.scatter(data_frame.vic_map_x, data_frame.vic_map_y, alpha = 1, c = 'r')\n",
    "\n",
    "    ax.imshow(im)\n",
    "#     plt.savefig('./images/img_no_lines')\n",
    "#     for demo in list_of_demos:\n",
    "#         plt.savefig('./images/{}_no_lines.jpg'.format(demo))\n",
    "#         plt.close(fig)"
   ]
  },
  {
   "cell_type": "code",
   "execution_count": 14,
   "metadata": {},
   "outputs": [],
   "source": [
    "def plot_image_with_lines(data_frame, list_of_demos):\n",
    "    fig, ax = plt.subplots(figsize = (20, 20))\n",
    "\n",
    "    ax.scatter(data_frame.att_map_x, data_frame.att_map_y, alpha = 1, c = 'b')\n",
    "    ax.scatter(data_frame.vic_map_x, data_frame.vic_map_y, alpha = 1, c = 'r')\n",
    "\n",
    "    for i in range(len(data_frame)):\n",
    "        xyA = data_frame.att_map_x[i], data_frame.att_map_y[i]\n",
    "        xyB = data_frame.vic_map_x[i], data_frame.vic_map_y[i]\n",
    "\n",
    "        con = ConnectionPatch(xyA, xyB, coordsA = \"data\", coordsB = \"data\",\n",
    "                              arrowstyle=\"-\", shrinkA=5, shrinkB=5,\n",
    "                              mutation_scale=20, fc=\"w\")\n",
    "        ax.add_artist(con)\n",
    "\n",
    "    ax.imshow(im)\n",
    "#     plt.savefig('./images/img_lines')\n",
    "#     for demo in list_of_demos:\n",
    "#         plt.savefig('./images/{}_lines.jpg'.format(demo))\n",
    "#         plt.close(fig)"
   ]
  },
  {
   "cell_type": "code",
   "execution_count": 15,
   "metadata": {},
   "outputs": [],
   "source": [
    "def plot_image_by_rounds(data_frame):\n",
    "    fig, ax = plt.subplots(data_frame['round'].nunique(), figsize = (150, 150))\n",
    "\n",
    "    for i in range(data_frame['round'].nunique()):\n",
    "        ax[i].scatter(data_frame.loc[data_frame['round'] == i + 1].att_map_x, data_frame.loc[data_frame['round'] == i + 1].att_map_y, alpha = 1, c = 'b')\n",
    "        ax[i].scatter(data_frame.loc[data_frame['round'] == i + 1].vic_map_x, data_frame.loc[data_frame['round'] == i + 1].vic_map_y, alpha = 1, c = 'r')\n",
    "\n",
    "        ax[i].imshow(im)"
   ]
  },
  {
   "cell_type": "code",
   "execution_count": 16,
   "metadata": {},
   "outputs": [],
   "source": [
    "def plot_all(data_frame, list_of_demos):\n",
    "    plot_image(data_frame, list_of_demos)\n",
    "    #plot_image_with_lines(data_frame, list_of_demos)\n",
    "    #plot_image_by_rounds(data_frame)"
   ]
  },
  {
   "cell_type": "code",
   "execution_count": 17,
   "metadata": {},
   "outputs": [],
   "source": [
    "def create_final_res(res_lst):\n",
    "    new_result = remove_warmup(res_lst)\n",
    "    res_with_round_num = define_round_num(new_result)\n",
    "    res_no_trash = remove_trash(res_with_round_num)\n",
    "    \n",
    "    return res_no_trash"
   ]
  },
  {
   "cell_type": "code",
   "execution_count": 18,
   "metadata": {},
   "outputs": [],
   "source": [
    "def all_processes(res):\n",
    "    final_res = create_final_res(res)\n",
    "    attackers_list, victims_list, rounds_list = create_lists(final_res, attackers, victims, rounds)\n",
    "    attackers_x, attackers_y, attackers_z = split_x_y_z(attackers, attacker_x, attacker_y, attacker_z)\n",
    "    vitctims_x, victims_y, victims_z = split_x_y_z(victims, victim_x, victim_y, victim_z)\n",
    "    df = create_df_from_res(attacker_x, attacker_y, attacker_z, victim_x, victim_y, victim_z, rounds)\n",
    "    all_demos_result.append(final_res)\n",
    "    new_dff = convert_data(df)\n",
    "    plot_all(new_dff, demos_names)\n",
    "    \n",
    "    return all_demos_result"
   ]
  },
  {
   "cell_type": "markdown",
   "metadata": {},
   "source": [
    "# Demos"
   ]
  },
  {
   "cell_type": "code",
   "execution_count": 19,
   "metadata": {},
   "outputs": [],
   "source": [
    "demos_list = []\n",
    "demos_names = []\n",
    "\n",
    "for file in os.listdir(\"./data\"):\n",
    "    if file.endswith(\".dem\"):\n",
    "        demos_names.append(os.path.splitext(file)[0])\n",
    "        demos_list.append(os.path.join(\"./data/\", file))"
   ]
  },
  {
   "cell_type": "markdown",
   "metadata": {},
   "source": [
    "# Player death and run all processes\n"
   ]
  },
  {
   "cell_type": "code",
   "execution_count": null,
   "metadata": {},
   "outputs": [
    {
     "ename": "KeyboardInterrupt",
     "evalue": "",
     "output_type": "error",
     "traceback": [
      "\u001b[1;31m---------------------------------------------------------------------------\u001b[0m",
      "\u001b[1;31mKeyboardInterrupt\u001b[0m                         Traceback (most recent call last)",
      "\u001b[1;32mD:\\Anaconda3\\lib\\site-packages\\demoparser\\entities\\base.py\u001b[0m in \u001b[0;36mupdate_prop\u001b[1;34m(self, table, key, value)\u001b[0m\n\u001b[0;32m     10\u001b[0m     \u001b[1;32mdef\u001b[0m \u001b[0mupdate_prop\u001b[0m\u001b[1;33m(\u001b[0m\u001b[0mself\u001b[0m\u001b[1;33m,\u001b[0m \u001b[0mtable\u001b[0m\u001b[1;33m,\u001b[0m \u001b[0mkey\u001b[0m\u001b[1;33m,\u001b[0m \u001b[0mvalue\u001b[0m\u001b[1;33m)\u001b[0m\u001b[1;33m:\u001b[0m\u001b[1;33m\u001b[0m\u001b[1;33m\u001b[0m\u001b[0m\n\u001b[0;32m     11\u001b[0m         \u001b[1;34m\"\"\"Update entity property.\"\"\"\u001b[0m\u001b[1;33m\u001b[0m\u001b[1;33m\u001b[0m\u001b[0m\n\u001b[1;32m---> 12\u001b[1;33m         \u001b[1;32mif\u001b[0m \u001b[0mtable\u001b[0m \u001b[1;32min\u001b[0m \u001b[0mself\u001b[0m\u001b[1;33m.\u001b[0m\u001b[0mprops\u001b[0m \u001b[1;32mand\u001b[0m \u001b[0mkey\u001b[0m \u001b[1;32min\u001b[0m \u001b[0mself\u001b[0m\u001b[1;33m.\u001b[0m\u001b[0mprops\u001b[0m\u001b[1;33m[\u001b[0m\u001b[0mtable\u001b[0m\u001b[1;33m]\u001b[0m\u001b[1;33m:\u001b[0m\u001b[1;33m\u001b[0m\u001b[1;33m\u001b[0m\u001b[0m\n\u001b[0m\u001b[0;32m     13\u001b[0m             \u001b[0mself\u001b[0m\u001b[1;33m.\u001b[0m\u001b[0mprops\u001b[0m\u001b[1;33m[\u001b[0m\u001b[0mtable\u001b[0m\u001b[1;33m]\u001b[0m\u001b[1;33m[\u001b[0m\u001b[0mkey\u001b[0m\u001b[1;33m]\u001b[0m \u001b[1;33m=\u001b[0m \u001b[0mvalue\u001b[0m\u001b[1;33m\u001b[0m\u001b[1;33m\u001b[0m\u001b[0m\n\u001b[0;32m     14\u001b[0m \u001b[1;33m\u001b[0m\u001b[0m\n",
      "\u001b[1;31mKeyboardInterrupt\u001b[0m: "
     ]
    },
    {
     "name": "stderr",
     "output_type": "stream",
     "text": [
      "Exception ignored in: 'demoparser.demofile.DemoFile.read_new_entity'\n",
      "Traceback (most recent call last):\n",
      "  File \"D:\\Anaconda3\\lib\\site-packages\\demoparser\\entities\\base.py\", line 12, in update_prop\n",
      "    if table in self.props and key in self.props[table]:\n",
      "KeyboardInterrupt\n"
     ]
    },
    {
     "ename": "KeyboardInterrupt",
     "evalue": "",
     "output_type": "error",
     "traceback": [
      "\u001b[1;31m---------------------------------------------------------------------------\u001b[0m",
      "\u001b[1;31mKeyboardInterrupt\u001b[0m                         Traceback (most recent call last)",
      "\u001b[1;32mD:\\Anaconda3\\lib\\site-packages\\demoparser\\entities\\base.py\u001b[0m in \u001b[0;36mupdate_prop\u001b[1;34m(self, table, key, value)\u001b[0m\n\u001b[0;32m     10\u001b[0m     \u001b[1;32mdef\u001b[0m \u001b[0mupdate_prop\u001b[0m\u001b[1;33m(\u001b[0m\u001b[0mself\u001b[0m\u001b[1;33m,\u001b[0m \u001b[0mtable\u001b[0m\u001b[1;33m,\u001b[0m \u001b[0mkey\u001b[0m\u001b[1;33m,\u001b[0m \u001b[0mvalue\u001b[0m\u001b[1;33m)\u001b[0m\u001b[1;33m:\u001b[0m\u001b[1;33m\u001b[0m\u001b[1;33m\u001b[0m\u001b[0m\n\u001b[0;32m     11\u001b[0m         \u001b[1;34m\"\"\"Update entity property.\"\"\"\u001b[0m\u001b[1;33m\u001b[0m\u001b[1;33m\u001b[0m\u001b[0m\n\u001b[1;32m---> 12\u001b[1;33m         \u001b[1;32mif\u001b[0m \u001b[0mtable\u001b[0m \u001b[1;32min\u001b[0m \u001b[0mself\u001b[0m\u001b[1;33m.\u001b[0m\u001b[0mprops\u001b[0m \u001b[1;32mand\u001b[0m \u001b[0mkey\u001b[0m \u001b[1;32min\u001b[0m \u001b[0mself\u001b[0m\u001b[1;33m.\u001b[0m\u001b[0mprops\u001b[0m\u001b[1;33m[\u001b[0m\u001b[0mtable\u001b[0m\u001b[1;33m]\u001b[0m\u001b[1;33m:\u001b[0m\u001b[1;33m\u001b[0m\u001b[1;33m\u001b[0m\u001b[0m\n\u001b[0m\u001b[0;32m     13\u001b[0m             \u001b[0mself\u001b[0m\u001b[1;33m.\u001b[0m\u001b[0mprops\u001b[0m\u001b[1;33m[\u001b[0m\u001b[0mtable\u001b[0m\u001b[1;33m]\u001b[0m\u001b[1;33m[\u001b[0m\u001b[0mkey\u001b[0m\u001b[1;33m]\u001b[0m \u001b[1;33m=\u001b[0m \u001b[0mvalue\u001b[0m\u001b[1;33m\u001b[0m\u001b[1;33m\u001b[0m\u001b[0m\n\u001b[0;32m     14\u001b[0m \u001b[1;33m\u001b[0m\u001b[0m\n",
      "\u001b[1;31mKeyboardInterrupt\u001b[0m: "
     ]
    },
    {
     "name": "stderr",
     "output_type": "stream",
     "text": [
      "Exception ignored in: 'demoparser.demofile.DemoFile.read_new_entity'\n",
      "Traceback (most recent call last):\n",
      "  File \"D:\\Anaconda3\\lib\\site-packages\\demoparser\\entities\\base.py\", line 12, in update_prop\n",
      "    if table in self.props and key in self.props[table]:\n",
      "KeyboardInterrupt\n"
     ]
    },
    {
     "ename": "KeyboardInterrupt",
     "evalue": "",
     "output_type": "error",
     "traceback": [
      "\u001b[1;31m---------------------------------------------------------------------------\u001b[0m",
      "\u001b[1;31mKeyboardInterrupt\u001b[0m                         Traceback (most recent call last)",
      "\u001b[1;32mD:\\Anaconda3\\lib\\site-packages\\demoparser\\entities\\base.py\u001b[0m in \u001b[0;36mupdate_prop\u001b[1;34m(self, table, key, value)\u001b[0m\n\u001b[0;32m     10\u001b[0m     \u001b[1;32mdef\u001b[0m \u001b[0mupdate_prop\u001b[0m\u001b[1;33m(\u001b[0m\u001b[0mself\u001b[0m\u001b[1;33m,\u001b[0m \u001b[0mtable\u001b[0m\u001b[1;33m,\u001b[0m \u001b[0mkey\u001b[0m\u001b[1;33m,\u001b[0m \u001b[0mvalue\u001b[0m\u001b[1;33m)\u001b[0m\u001b[1;33m:\u001b[0m\u001b[1;33m\u001b[0m\u001b[1;33m\u001b[0m\u001b[0m\n\u001b[0;32m     11\u001b[0m         \u001b[1;34m\"\"\"Update entity property.\"\"\"\u001b[0m\u001b[1;33m\u001b[0m\u001b[1;33m\u001b[0m\u001b[0m\n\u001b[1;32m---> 12\u001b[1;33m         \u001b[1;32mif\u001b[0m \u001b[0mtable\u001b[0m \u001b[1;32min\u001b[0m \u001b[0mself\u001b[0m\u001b[1;33m.\u001b[0m\u001b[0mprops\u001b[0m \u001b[1;32mand\u001b[0m \u001b[0mkey\u001b[0m \u001b[1;32min\u001b[0m \u001b[0mself\u001b[0m\u001b[1;33m.\u001b[0m\u001b[0mprops\u001b[0m\u001b[1;33m[\u001b[0m\u001b[0mtable\u001b[0m\u001b[1;33m]\u001b[0m\u001b[1;33m:\u001b[0m\u001b[1;33m\u001b[0m\u001b[1;33m\u001b[0m\u001b[0m\n\u001b[0m\u001b[0;32m     13\u001b[0m             \u001b[0mself\u001b[0m\u001b[1;33m.\u001b[0m\u001b[0mprops\u001b[0m\u001b[1;33m[\u001b[0m\u001b[0mtable\u001b[0m\u001b[1;33m]\u001b[0m\u001b[1;33m[\u001b[0m\u001b[0mkey\u001b[0m\u001b[1;33m]\u001b[0m \u001b[1;33m=\u001b[0m \u001b[0mvalue\u001b[0m\u001b[1;33m\u001b[0m\u001b[1;33m\u001b[0m\u001b[0m\n\u001b[0;32m     14\u001b[0m \u001b[1;33m\u001b[0m\u001b[0m\n",
      "\u001b[1;31mKeyboardInterrupt\u001b[0m: "
     ]
    },
    {
     "name": "stderr",
     "output_type": "stream",
     "text": [
      "Exception ignored in: 'demoparser.demofile.DemoFile.read_new_entity'\n",
      "Traceback (most recent call last):\n",
      "  File \"D:\\Anaconda3\\lib\\site-packages\\demoparser\\entities\\base.py\", line 12, in update_prop\n",
      "    if table in self.props and key in self.props[table]:\n",
      "KeyboardInterrupt\n"
     ]
    }
   ],
   "source": [
    "all_demos_result = []\n",
    "im = plt.imread('./maps/de_dust2.png')\n",
    "round_end_msgs = [['#SFUI_Notice_Bomb_Defused'], ['#SFUI_Notice_CTs_Win'], ['#SFUI_Notice_Target_Saved'], ['#SFUI_Notice_Terrorists_Win'], ['#SFUI_Notice_Target_Bombed']]\n",
    "\n",
    "def death(event, msg):\n",
    "    for idx, key in enumerate(event['event'].keys):\n",
    "        if key.name == 'attacker':\n",
    "            user_id = msg.keys[idx].val_short\n",
    "            attacker = d.entities.get_by_user_id(user_id)\n",
    "        elif key.name == 'userid':\n",
    "            user_id = msg.keys[idx].val_short\n",
    "            victim = d.entities.get_by_user_id(user_id)\n",
    "        elif key.name == 'weapon':\n",
    "            weapon = msg.keys[idx].val_string\n",
    "        elif key.name == 'headshot':\n",
    "            headshot = msg.keys[idx].val_bool \n",
    "        \n",
    "    if attacker and victim:\n",
    "        result.append([attacker.position, victim.position])\n",
    "\n",
    "if __name__ == \"__main__\":\n",
    "    for demo in demos_list:\n",
    "        result = []\n",
    "        attackers, victims, rounds, attacker_x, attacker_y, attacker_z, victim_x, victim_y, victim_z = [], [], [], [], [], [], [], [], []\n",
    "        data = open(demo, 'rb').read()\n",
    "        d = DemoFile(data)\n",
    "        d.add_callback('round_announce_match_start', m_start)\n",
    "        d.add_callback('round_start', r_start)\n",
    "        d.add_callback('player_death', death)\n",
    "        d.add_callback('round_end', r_end)\n",
    "        d.parse()\n",
    "        all_demos = all_processes(result)\n",
    "    print(all_demos)"
   ]
  },
  {
   "cell_type": "code",
   "execution_count": null,
   "metadata": {},
   "outputs": [],
   "source": []
  }
 ],
 "metadata": {
  "kernelspec": {
   "display_name": "Python 3",
   "language": "python",
   "name": "python3"
  },
  "language_info": {
   "codemirror_mode": {
    "name": "ipython",
    "version": 3
   },
   "file_extension": ".py",
   "mimetype": "text/x-python",
   "name": "python",
   "nbconvert_exporter": "python",
   "pygments_lexer": "ipython3",
   "version": "3.7.3"
  }
 },
 "nbformat": 4,
 "nbformat_minor": 2
}
