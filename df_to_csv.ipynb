{
 "cells": [
  {
   "cell_type": "code",
   "execution_count": 1,
   "metadata": {},
   "outputs": [],
   "source": [
    "import sys\n",
    "import os\n",
    "import pandas as pd\n",
    "from demoparser.demofile import DemoFile"
   ]
  },
  {
   "cell_type": "code",
   "execution_count": 2,
   "metadata": {},
   "outputs": [],
   "source": [
    "def r_start(event, msg):\n",
    "    for idx, key in enumerate(event['event'].keys):\n",
    "        if key.name == 'objective':\n",
    "            objective = msg.keys[idx].val_string\n",
    "     \n",
    "    result.append([objective])"
   ]
  },
  {
   "cell_type": "code",
   "execution_count": 3,
   "metadata": {},
   "outputs": [],
   "source": [
    "def r_end(event, msg):\n",
    "    for idx, key in enumerate(event['event'].keys):\n",
    "        if key.name == 'winner':\n",
    "            winner = msg.keys[idx].val_byte\n",
    "        elif key.name == 'reason':\n",
    "            reason = msg.keys[idx].val_byte\n",
    "        elif key.name == 'legacy':\n",
    "            legacy = msg.keys[idx].val_byte\n",
    "        elif key.name == 'message':\n",
    "            message = msg.keys[idx].val_string\n",
    "        elif key.name == 'player_count':\n",
    "            player_count = msg.keys[idx].val_short\n",
    "     \n",
    "    result.append([message])"
   ]
  },
  {
   "cell_type": "code",
   "execution_count": 4,
   "metadata": {},
   "outputs": [],
   "source": [
    "def m_start(event, msg):\n",
    "    result.append(\"Match start\")"
   ]
  },
  {
   "cell_type": "code",
   "execution_count": 5,
   "metadata": {},
   "outputs": [],
   "source": [
    "def death(event, msg):\n",
    "    for idx, key in enumerate(event['event'].keys):\n",
    "        if key.name == 'attacker':\n",
    "            user_id = msg.keys[idx].val_short\n",
    "            attacker = d.entities.get_by_user_id(user_id)\n",
    "        elif key.name == 'userid':\n",
    "            user_id = msg.keys[idx].val_short\n",
    "            victim = d.entities.get_by_user_id(user_id)\n",
    "        elif key.name == 'weapon':\n",
    "            weapon = msg.keys[idx].val_string\n",
    "        elif key.name == 'headshot':\n",
    "            headshot = msg.keys[idx].val_bool \n",
    "        \n",
    "    if attacker and victim:\n",
    "        result.append([attacker.position, victim.position])"
   ]
  },
  {
   "cell_type": "code",
   "execution_count": 6,
   "metadata": {},
   "outputs": [],
   "source": [
    "def remove_warmup(res_list):\n",
    "    match_start_idx = len(res_list) - 1 - res_list[::-1].index(\"Match start\")\n",
    "    new_res_list = res_list[match_start_idx:]\n",
    "    return new_res_list"
   ]
  },
  {
   "cell_type": "code",
   "execution_count": 7,
   "metadata": {},
   "outputs": [],
   "source": [
    "# def define_round_num(new_res_list):\n",
    "#     counter = 1\n",
    "#     for i in range(len(new_res_list)):\n",
    "#         if new_res_list[i] in round_end_msgs:\n",
    "#             new_res_list[i] = [{\"Round msg\": new_res_list[i][0], \"round num\": counter}]\n",
    "#             counter += 1\n",
    "#     return new_res_list"
   ]
  },
  {
   "cell_type": "code",
   "execution_count": 8,
   "metadata": {},
   "outputs": [],
   "source": [
    "def define_round_num(new_res_list):\n",
    "    counter = 1\n",
    "    for i in range(len(new_res_list)):\n",
    "        if new_res_list[i] in ct_round_end_msgs:\n",
    "            new_res_list[i] = [{\"Round msg\": new_res_list[i][0], \"round num\": counter, \"winner team\": \"CTs win\"}]\n",
    "            counter += 1\n",
    "        elif new_res_list[i] in t_round_end_msgs:\n",
    "            new_res_list[i] = [{\"Round msg\": new_res_list[i][0], \"round num\": counter, \"winner team\": \"Ts win\"}]\n",
    "            counter += 1\n",
    "            \n",
    "    return new_res_list"
   ]
  },
  {
   "cell_type": "code",
   "execution_count": 9,
   "metadata": {},
   "outputs": [],
   "source": [
    "def remove_trash(new_res_list):\n",
    "    for el in new_res_list:\n",
    "        if el == \"Match start\" or el == ['BOMB TARGET']:\n",
    "            new_res_list.pop(new_res_list.index(el))\n",
    "    return new_res_list"
   ]
  },
  {
   "cell_type": "code",
   "execution_count": 21,
   "metadata": {},
   "outputs": [],
   "source": [
    "def create_lists(new_res_list, att_list, vic_list, r_list, wnr_list, tms_list):\n",
    "    round_counter = 1\n",
    "    kill_counter = 0\n",
    "    kills_counter = []\n",
    "    final_winner_list = []\n",
    "    final_team_list = []\n",
    "    idx = 0\n",
    "    rnd_cntr = 1\n",
    "    team_one = \"\"\n",
    "    team_two = \"\"\n",
    "    \n",
    "    for el in new_res_list:\n",
    "        if len(el) == 1:\n",
    "            round_counter += 1\n",
    "            kills_counter.append(kill_counter)\n",
    "            kill_counter = 0\n",
    "            wnr_list.append(el[0].get(\"winner team\", \"\"))\n",
    "        else:\n",
    "            att_list.append(el[0])\n",
    "            vic_list.append(el[1])\n",
    "            r_list.append(round_counter)\n",
    "            kill_counter += 1\n",
    "        \n",
    "    for el in wnr_list:\n",
    "        if rnd_cntr == 1:\n",
    "            team_one = el\n",
    "            \n",
    "        if rnd_cntr == 15:\n",
    "            team_two = team_one\n",
    "            team_one = \"\"\n",
    "            \n",
    "        if rnd_cntr < 15:\n",
    "            if el == team_one:\n",
    "                tms_list.append(\"Team 1\")\n",
    "\n",
    "            else:\n",
    "                tms_list.append(\"Team 2\")\n",
    "        else:\n",
    "            if el == team_two:\n",
    "                tms_list.append(\"Team 2\")\n",
    "            else:\n",
    "                tms_list.append(\"Team 1\")\n",
    "                \n",
    "        rnd_cntr += 1\n",
    "        \n",
    "    for el in kills_counter:\n",
    "        for i in range(el):\n",
    "            final_team_list.append(tms_list[idx])\n",
    "            final_winner_list.append(wnr_list[idx])\n",
    "        idx += 1\n",
    "                 \n",
    "    return att_list, vic_list, r_list, final_winner_list, final_team_list"
   ]
  },
  {
   "cell_type": "code",
   "execution_count": 11,
   "metadata": {},
   "outputs": [],
   "source": [
    "def split_x_y_z(att_or_vic_list, att_or_vic_x, att_or_vic_y, att_or_vic_z):\n",
    "    for el in att_or_vic_list:\n",
    "        att_or_vic_x.append(el['x'])\n",
    "        att_or_vic_y.append(el['y'])\n",
    "        att_or_vic_z.append(el['z'])\n",
    "    \n",
    "    return att_or_vic_x, att_or_vic_y, att_or_vic_z"
   ]
  },
  {
   "cell_type": "code",
   "execution_count": 12,
   "metadata": {},
   "outputs": [],
   "source": [
    "def create_df_from_res(att_x, att_y, att_z, vic_x, vic_y, vic_z, rnds, wnrs, tms):\n",
    "    data_frame = pd.DataFrame({'attacker_x': att_x,\n",
    "                       'attacker_y': att_y,\n",
    "                       'attacker_z': att_z,\n",
    "                       'victim_x': vic_x,\n",
    "                       'victim_y': vic_y,\n",
    "                       'victim_z': vic_z,\n",
    "                       'round': rnds,\n",
    "                       'wnr_team': wnrs,\n",
    "                       'team_num': tms\n",
    "                      })\n",
    "    return data_frame"
   ]
  },
  {
   "cell_type": "code",
   "execution_count": 13,
   "metadata": {},
   "outputs": [],
   "source": [
    "# points for old dust 2: StartX = -2486; StartY = -1150; EndX = 2127; EndY = 3455; ResX = 1024; ResY = 1024;\n",
    "\n",
    "def pointx_to_resolutionx(xinput, startX = -2486, endX = 2127, resX = 1024):\n",
    "    sizeX = endX - startX\n",
    "    if startX < 0:\n",
    "        xinput += startX * (-1.0)\n",
    "    else:\n",
    "        xinput += startX\n",
    "    xoutput = float((xinput / abs(sizeX)) * resX);\n",
    "    return xoutput\n",
    "\n",
    "def pointy_to_resolutiony(yinput, startY = -1150, endY = 3455, resY = 1024):\n",
    "    sizeY = endY - startY\n",
    "    if startY < 0:\n",
    "        yinput += startY * (-1.0)\n",
    "    else:\n",
    "        yinput += startY\n",
    "    youtput = float((yinput / abs(sizeY)) * resY);\n",
    "    return resY - youtput - 10"
   ]
  },
  {
   "cell_type": "code",
   "execution_count": 14,
   "metadata": {},
   "outputs": [],
   "source": [
    "def convert_data(dataframe, list_of_dfs, rnds, wnrs, tms):\n",
    "    new_df = pd.DataFrame()\n",
    "    # Convert the data to radar positions\n",
    "    new_df['att_map_x'] = dataframe['attacker_x'].apply(pointx_to_resolutionx)\n",
    "    new_df['att_map_y'] = dataframe['attacker_y'].apply(pointy_to_resolutiony)\n",
    "    new_df['vic_map_x'] = dataframe['victim_x'].apply(pointx_to_resolutionx)\n",
    "    new_df['vic_map_y'] = dataframe['victim_y'].apply(pointy_to_resolutiony)\n",
    "    new_df['round'] = rnds\n",
    "    new_df['winner_team'] = wnrs\n",
    "    new_df['team_num'] = tms\n",
    "    list_of_dfs.append(new_df)\n",
    "            \n",
    "    return list_of_dfs"
   ]
  },
  {
   "cell_type": "code",
   "execution_count": 15,
   "metadata": {},
   "outputs": [],
   "source": [
    "def create_final_res(res_lst):\n",
    "    new_result = remove_warmup(res_lst)\n",
    "    res_with_round_num = define_round_num(new_result)\n",
    "    res_no_trash = remove_trash(res_with_round_num)\n",
    "    \n",
    "    return res_no_trash"
   ]
  },
  {
   "cell_type": "code",
   "execution_count": 16,
   "metadata": {},
   "outputs": [],
   "source": [
    "def df_to_csv(list_of_demos, list_of_dfs):\n",
    "    for i in range(len(list_of_demos)):\n",
    "        for j in range(len(list_of_dfs)):\n",
    "            if i == j:\n",
    "                list_of_dfs[j].to_csv('./csv/{}.csv'.format(list_of_demos[i]))"
   ]
  },
  {
   "cell_type": "code",
   "execution_count": 17,
   "metadata": {},
   "outputs": [],
   "source": [
    "def all_processes(res):\n",
    "    final_res = create_final_res(res)\n",
    "    attackers_list, victims_list, rounds_list, winner_list, teams_list = create_lists(final_res, attackers, victims, rounds, winners, teams)\n",
    "    attackers_x, attackers_y, attackers_z = split_x_y_z(attackers, attacker_x, attacker_y, attacker_z)\n",
    "    vitctims_x, victims_y, victims_z = split_x_y_z(victims, victim_x, victim_y, victim_z)\n",
    "    df = create_df_from_res(attacker_x, attacker_y, attacker_z, victim_x, victim_y, victim_z, rounds_list, winner_list, teams_list)\n",
    "    all_demos_result.append(final_res)\n",
    "    new_dff = convert_data(df, dfs, rounds_list, winner_list, teams_list)\n",
    "    df_to_csv(demos_names, dfs)\n",
    "    \n",
    "    return all_demos_result"
   ]
  },
  {
   "cell_type": "code",
   "execution_count": 22,
   "metadata": {},
   "outputs": [],
   "source": [
    "all_demos_result = []\n",
    "dfs = []\n",
    "ct_round_end_msgs = [['#SFUI_Notice_Bomb_Defused'], ['#SFUI_Notice_CTs_Win'], ['#SFUI_Notice_Target_Saved']]\n",
    "t_round_end_msgs = [['#SFUI_Notice_Terrorists_Win'], ['#SFUI_Notice_Target_Bombed']]\n",
    "round_end_msgs = [['#SFUI_Notice_Bomb_Defused'], ['#SFUI_Notice_CTs_Win'], ['#SFUI_Notice_Target_Saved'], ['#SFUI_Notice_Terrorists_Win'], ['#SFUI_Notice_Target_Bombed']]"
   ]
  },
  {
   "cell_type": "code",
   "execution_count": 23,
   "metadata": {},
   "outputs": [],
   "source": [
    "demos_list = []\n",
    "demos_names = []\n",
    "\n",
    "for file in os.listdir(\"./data\"):\n",
    "    if file.endswith(\".dem\"):\n",
    "        demos_names.append(os.path.splitext(file)[0])\n",
    "        demos_list.append(os.path.join(\"./data/\", file))"
   ]
  },
  {
   "cell_type": "code",
   "execution_count": 24,
   "metadata": {
    "scrolled": false
   },
   "outputs": [],
   "source": [
    "for demo in demos_list:\n",
    "    result = []\n",
    "    attackers, victims, rounds, attacker_x, attacker_y, attacker_z, victim_x, victim_y, victim_z, winners, teams = [], [], [], [], [], [], [], [], [], [], []\n",
    "    data = open(demo, 'rb').read()\n",
    "    d = DemoFile(data)\n",
    "    d.add_callback('round_announce_match_start', m_start)\n",
    "    d.add_callback('round_start', r_start)\n",
    "    d.add_callback('player_death', death)\n",
    "    d.add_callback('round_end', r_end)\n",
    "    d.parse()\n",
    "    all_demos = all_processes(result)"
   ]
  },
  {
   "cell_type": "code",
   "execution_count": null,
   "metadata": {},
   "outputs": [],
   "source": [
    ""
   ]
  }
 ],
 "metadata": {
  "kernelspec": {
   "display_name": "Python 3",
   "language": "python",
   "name": "python3"
  },
  "language_info": {
   "codemirror_mode": {
    "name": "ipython",
    "version": 3.0
   },
   "file_extension": ".py",
   "mimetype": "text/x-python",
   "name": "python",
   "nbconvert_exporter": "python",
   "pygments_lexer": "ipython3",
   "version": "3.7.3"
  }
 },
 "nbformat": 4,
 "nbformat_minor": 0
}